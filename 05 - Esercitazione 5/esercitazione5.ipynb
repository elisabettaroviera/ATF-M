{
 "cells": [
  {
   "cell_type": "markdown",
   "metadata": {},
   "source": [
    "Esercitazione 5  \n",
    "DFT (seconda parte)\n",
    "\n",
    "7 Aprile 2025"
   ]
  },
  {
   "cell_type": "markdown",
   "metadata": {},
   "source": [
    "**Sommario**  \n",
    "\n",
    "L’esercitazione è finalizzata all’analisi e alla rappresentazione di segnali nel dominio della frequenza. Nella prima parte, si considera un segnale composto da una somma di sinusoidi, del quale si analizzano le caratteristiche temporali e spettrali mediante la Trasformata Discreta di Fourier (DFT). Successivamente, si esplora il concetto di proiezione di un segnale su una base di sinusoidi complesse, studiando l’effetto della riduzione della dimensione della base sulla qualità della ricostruzione del segnale. Infine, si analizzano segnali sinusoidali concatenati con porzioni di silenzio."
   ]
  },
  {
   "cell_type": "markdown",
   "metadata": {},
   "source": [
    "#### Esercizio 1  \n",
    "\n",
    "**(a)** Leggere il file `frequencyRepresentation.mat` usando:\n",
    "```python\n",
    "x = np.squeeze(sio.loadmat('frequencyRepresentation.mat')['x'])\n",
    "```\n",
    "\n",
    "**(b)** Plot dei primi 500 campioni di `x`.\n",
    "\n",
    "**(c)** Salvare `x` come audio WAV a 8000 Hz:\n",
    "```python\n",
    "scipy.io.wavfile.write('sound1.wav', 8000, x)\n",
    "```\n",
    "\n",
    "**(d)** Calcolare la DFT di `x` e plot del suo modulo.  \n",
    "*Domanda:* In quale dei tre modi (time plot, ascolto, spettro) è più chiaro il numero di sinusoidi presenti?"
   ]
  },
  {
   "cell_type": "markdown",
   "metadata": {},
   "source": [
    "#### Esercizio 2  \n",
    "\n",
    "**(a)** Considerare il segnale `y` di lunghezza 128 in cui la prima metà vale 1 e la seconda metà 0, e plot di `y`.  \n",
    "**(b)** Calcolare la DFT di `y`.  \n",
    "**(c)** Costruire i vettori `Y^(k)` di lunghezza 128 con i primi k+1 coefficienti DFT non azzerati (k=0,…,9) e inversa.  \n",
    "Plot di tutte le ricostruzioni in un’unica figura."
   ]
  },
  {
   "cell_type": "markdown",
   "metadata": {},
   "source": [
    "#### Esercizio 3  \n",
    "\n",
    "**(a)** Definire i segnali di lunghezza N=1000:\n",
    "- `z1[n] = sin(80π n / N)`\n",
    "- `z2[n] = sin(160π n / N)`\n",
    "- `z3[n] = sin(320π n / N)`\n",
    "dove `n = 0, …, 999`.\n",
    "\n",
    "**(b)** Concatenare in `z` i tre segnali con 1000 zeri di silenzio tra di essi (lunghezza totale 5000).  \n",
    "Salvare come WAV (fs=5000) e ascoltare.\n",
    "\n",
    "**(c)** Calcolare la DFT di `z` e plot del suo modulo.\n",
    "\n",
    "**(d)** Definire `Zapprox` tagliando a zero tutti i coefficienti di `Z` tranne i primi 600 e gli ultimi 600, fare plot del modulo, inversa, salvare (fs=5000) e confrontare audio."
   ]
  }
 ],
 "metadata": {
  "kernelspec": {
   "display_name": "Python 3",
   "language": "python",
   "name": "python3"
  },
  "language_info": {
   "name": "python"
  }
 },
 "nbformat": 4,
 "nbformat_minor": 5
}
