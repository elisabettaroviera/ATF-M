{
 "cells": [
  {
   "cell_type": "markdown",
   "metadata": {},
   "source": [
    "# Esercitazione 4  \n",
    "## Discrete Fourier Transform"
   ]
  },
  {
   "cell_type": "markdown",
   "metadata": {},
   "source": [
    "### Sommario  \n",
    "\n",
    "In questa esercitazione, esploreremo la Trasformata di Fourier Discreta (DFT) e la sua implementazione numerica. In particolare, gli esercizi sono volti a comprendere concetti fondamentali dell’analisi spettrale e il loro utilizzo pratico.\n",
    "\n",
    "Calcoleremo manualmente la DFT di vettori di diversa lunghezza e verificheremo i risultati utilizzando la funzione `fft` della libreria `scipy`. Successivamente, implementeremo funzioni personalizzate per il calcolo della DFT e della sua inversa, confrontandole con le funzioni di libreria. Analizzeremo inoltre le proprietà della DFT applicandola a segnali noti e verificando gli effetti nel dominio della frequenza. Infine, studieremo le caratteristiche spettrali di segnali specifici attraverso la loro DFT e rappresenteremo graficamente il modulo della trasformata."
   ]
  },
  {
   "cell_type": "code",
   "execution_count": 1,
   "id": "83a140a0",
   "metadata": {},
   "outputs": [],
   "source": [
    "import numpy as np\n",
    "import matplotlib.pylab as plt\n",
    "from scipy import fftpack as f"
   ]
  },
  {
   "cell_type": "markdown",
   "metadata": {},
   "source": [
    "#### Esercizio 1  \n",
    "\n",
    "Calcolare attraverso la definizione la DFT dei seguenti vettori:\n",
    "- `v1 = [2, 3]`\n",
    "- `v2 = [2, 4, 5]`\n",
    "- `v3 = [3, 4, 5, 6]`\n",
    "\n",
    "Verificare con Python la correttezza utilizzando `scipy.fft.fft`."
   ]
  },
  {
   "cell_type": "code",
   "execution_count": null,
   "id": "559f8ae2",
   "metadata": {},
   "outputs": [],
   "source": [
    "1,2,3def dft(x): X = np.zeros((x.shape[0]), dtype=complex) for k in range(x.shape[0]): for n in range(x.shape[0]): X[k] = X[k] + x[n]*np.exp(-2j*np.pi*k*n/x.shape[0]) return Xdef idft(X): x = np.zeros((X.shape[0]), dtype=complex) for n in range(X.shape[0]): for k in range(x.shape[0]): x[n] = x[n] + X[k]*np.exp(2j*np.pi*k*n/X.shape[0]) return x/X.shape[0]x1 = np.array([2,3])X1 = f.fft(x1)X1_check = dft(x1)x1_check = idft(X1_check)dif = np.absolute(x1_check-x1)print(np.amax(dif))dif = np.absolute(X1_check-X1)print(np.amax(dif))x2 = np.array([2,4,5])X2 = f.fft(x2)X2_check = dft(x2)x2_check = idft(X2_check)dif = np.absolute(x2_check-x2)print(np.amax(dif))dif = np.absolute(X2_check-X2)print(np.amax(dif))x3 = np.array([3,4,5,6])X3 = f.fft(x3)X3_check = dft(x3)x3_check = idft(X3_check)dif = np.absolute(x3_check-x3)print(np.amax(dif))dif = np.absolute(X3_check-X3)print(np.amax(dif))"
   ]
  },
  {
   "cell_type": "markdown",
   "metadata": {},
   "source": [
    "#### Esercizio 2  \n",
    "\n",
    "Scrivere una funzione che calcoli la DFT di un vettore.  \n",
    "Verificare la correttezza della funzione confrontando con `scipy.fft.fft`."
   ]
  },
  {
   "cell_type": "code",
   "execution_count": null,
   "id": "d78d7918",
   "metadata": {},
   "outputs": [],
   "source": []
  },
  {
   "cell_type": "markdown",
   "metadata": {},
   "source": [
    "#### Esercizio 3  \n",
    "\n",
    "Scrivere una funzione che calcoli la DFT inversa di un vettore di coefficienti.  \n",
    "Verificare la correttezza confrontando con `scipy.fft.ifft`."
   ]
  },
  {
   "cell_type": "code",
   "execution_count": null,
   "id": "3b2315ed",
   "metadata": {},
   "outputs": [],
   "source": []
  },
  {
   "cell_type": "markdown",
   "metadata": {},
   "source": [
    "#### Esercizio 4  \n",
    "\n",
    "Sia `X = [0, 1, 2, 3, 4]` la DFT di un certo vettore `x`.  \n",
    "Quale sarà la DFT del vettore `y(n) = e^{i4\\pi n/5} x(n)`?  \n",
    "Rispondere prima utilizzando le proprietà della DFT e poi verificare con il codice sviluppato."
   ]
  },
  {
   "cell_type": "code",
   "execution_count": null,
   "id": "049b6563",
   "metadata": {},
   "outputs": [],
   "source": [
    "#Esercizio 4X = np.array([0,1,2,3,4])x = idft(X)y = np.zeros((x.shape[0]), dtype=complex)for n in range(x.shape[0]): y[n] = np.exp(1j*4*np.pi*n/5)*x[n] Y = dft(y) plt.stem(Y)plt.ylabel('DFT magnitude')plt.xlabel('DFT index')plt.title('Ex.4')plt.show()"
   ]
  },
  {
   "cell_type": "markdown",
   "metadata": {},
   "source": [
    "#### Esercizio 5  \n",
    "\n",
    "Considerare i segnali:\n",
    "- `2018 * sin(2 k π t)`, k = 1, 2, 3;\n",
    "- `cos(2 k π t)`, k = 1, 2, 3;\n",
    "- `cos(2 π t) + cos(6 π t) + cos(10 π t)`;\n",
    "- `e^{2 π i t}`;\n",
    "\n",
    "dove `t` è un vettore equispaziato di 50 punti in `[0, 1]`.  \n",
    "Calcolare la DFT usando la funzione creata e fare un grafico del **modulo** della trasformata.  \n",
    "Spiegare i risultati alla luce delle proprietà della DFT."
   ]
  },
  {
   "cell_type": "code",
   "execution_count": null,
   "id": "c320a4b9",
   "metadata": {},
   "outputs": [],
   "source": [
    "# Esercizio 5t=np.arange(50)/50a1 = 2018*np.sin(2*np.pi*t)a2 = 2018*np.sin(2*np.pi*2*t)a3 = 2018*np.sin(2*np.pi*3*t)A1 = np.absolute(dft(a1))A2 = np.absolute(dft(a2))A3 = np.absolute(dft(a3))plt.title('Ex.5a')plt.plot(np.arange(50), A1,'r--',np.arange(50),A2,'b--',np.arange(50),A3,'g--')plt.ylabel('DFT magnitude')plt.xlabel('DFT index')plt.show()b1 = np.cos(2*np.pi*t)b2 = np.cos(2*np.pi*2*t)b3 = np.cos(2*np.pi*3*t)B1 = np.absolute(dft(b1))B2 = np.absolute(dft(b2))B3 = np.absolute(dft(b3))plt.plot(np.arange(50), B1,'r--',np.arange(50),B2,'b--',np.arange(50),B3,'g--')plt.ylabel('DFT magnitude')plt.xlabel('DFT index')plt.title('Ex.5b')plt.show()# Confronto DFT di sinusoide -- Spectral leakagett=np.arange(64)/64bb = np.cos(2*np.pi*4*tt)BB=np.absolute(dft(bb))s=np.linspace(0,1,64)bs=np.cos(2*np.pi*4*s)Bs=np.absolute(dft(bs))plt.stem(BB)plt.title('64-point DFT, m=4')\n",
    "plt.ylabel('DFT magnitude')plt.xlabel('DFT index')plt.show()plt.ylabel('DFT magnitude')plt.xlabel('DFT index')plt.title('64 -point DFT, m=4.063')plt.stem(Bs)plt.show()c = np.cos(2*np.pi*t) + np.cos(6*np.pi*t) + np.cos(10*np.pi*t)C = np.absolute(dft(c))plt.title('Ex.5c')plt.stem(C)plt.ylabel('DFT magnitude')plt.xlabel('DFT index')plt.show()d = np.exp(2j*np.pi*t)D = np.absolute(dft(d))plt.title('Ex.5d')plt.stem( D)plt.ylabel('DFT magnitude')plt.xlabel('DFT index')plt.show()"
   ]
  },
  {
   "cell_type": "markdown",
   "metadata": {},
   "source": [
    "#### Esercizio 6  \n",
    "\n",
    "Considerare i segnali di lunghezza 50:\n",
    "- `[0, 10, 0, 0, ..., 0]`\n",
    "- `[0, 10, 0, 0, ..., 0, 10]`\n",
    "\n",
    "Calcolare la DFT usando la funzione creata e fare un grafico del **modulo**.  \n",
    "Spiegare i risultati alla luce delle proprietà della DFT."
   ]
  },
  {
   "cell_type": "code",
   "execution_count": null,
   "id": "09501018",
   "metadata": {},
   "outputs": [],
   "source": [
    "6a = np.zeros((50))b = np.zeros((50))a[1] = 10b[1] = 10b[-1] = 10A = np.abs(dft(a))B = np.absolute(dft(b)) # due delta simmetriche in frequenza sono un coseno plt.plot(t, A,'r--',t,B,t,20*(np.cos(2*np.pi*t)), 'b--')plt.title('Ex.6')plt.ylabel('DFT magnitude')plt.xlabel('DFT index')plt.show()"
   ]
  }
 ],
 "metadata": {
  "kernelspec": {
   "display_name": "Python 3",
   "language": "python",
   "name": "python3"
  },
  "language_info": {
   "codemirror_mode": {
    "name": "ipython",
    "version": 3
   },
   "file_extension": ".py",
   "mimetype": "text/x-python",
   "name": "python",
   "nbconvert_exporter": "python",
   "pygments_lexer": "ipython3",
   "version": "3.13.0"
  }
 },
 "nbformat": 4,
 "nbformat_minor": 5
}
