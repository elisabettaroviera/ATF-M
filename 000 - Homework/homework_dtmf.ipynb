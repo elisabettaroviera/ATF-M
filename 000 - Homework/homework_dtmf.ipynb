{
  "cells": [
    {
      "cell_type": "markdown",
      "metadata": {},
      "source": [
        "# Homework – Dual Tone Multi Frequency (DTMF)"
      ]
    },
    {
      "cell_type": "markdown",
      "metadata": {},
      "source": [
        "### Sommario\n1. Dizionario DTMF\n2. Funzione tone()\n3. Funzione dialNumber()\n4. Analisi spettrale\n5. Esperimenti (durata, zero-padding, rumore, Fs)"
      ]
    },
    {
      "cell_type": "markdown",
      "metadata": {},
      "source": [
        "#### Esercizio 1\nCostruire il dizionario per la tastiera 4×4 utilizzando le frequenze F1={697, 770, 852, 941} Hz e F2={1209, 1336, 1477, 1633} Hz.\n"
      ]
    },
    {
      "cell_type": "code",
      "execution_count": null,
      "metadata": {},
      "outputs": [],
      "source": []
    },
    {
      "cell_type": "markdown",
      "metadata": {},
      "source": [
        "#### Esercizio 2\nImplementare la funzione `tone(number, duration, Fs)` che generi il segnale x(t) = cos(2π f1 t) + cos(2π f2 t) corrispondente al tasto.\n"
      ]
    },
    {
      "cell_type": "code",
      "execution_count": null,
      "metadata": {},
      "outputs": [],
      "source": []
    },
    {
      "cell_type": "markdown",
      "metadata": {},
      "source": [
        "#### Esercizio 3\nImplementare la funzione `dialNumber(num, dur, Fs)` che concateni i toni per formare un numero completo.\n"
      ]
    },
    {
      "cell_type": "code",
      "execution_count": null,
      "metadata": {},
      "outputs": [],
      "source": []
    },
    {
      "cell_type": "markdown",
      "metadata": {},
      "source": [
        "#### Esercizio 4\nAnalizzare il segnale generato con la DFT e identificare le due frequenze principali per ogni tasto.\n"
      ]
    },
    {
      "cell_type": "code",
      "execution_count": null,
      "metadata": {},
      "outputs": [],
      "source": []
    },
    {
      "cell_type": "markdown",
      "metadata": {},
      "source": [
        "#### Esercizio 5\nEseguire esperimenti variando:\n- La durata dei toni (da 0.5s a 0.05s)\n- Lo zero padding\n- Rumore additivo bianco gaussiano (SNR=0dB, 10dB, 20dB)\n- La frequenza di campionamento (Fs = 8000, 4000, 2000 Hz)\nCommentare gli effetti osservati."
      ]
    },
    {
      "cell_type": "code",
      "execution_count": null,
      "metadata": {},
      "outputs": [],
      "source": []
    }
  ],
  "metadata": {
    "kernelspec": {
      "display_name": "Python 3",
      "language": "python",
      "name": "python3"
    },
    "language_info": {
      "name": "python",
      "version": "3.x"
    }
  },
  "nbformat": 4,
  "nbformat_minor": 5
}